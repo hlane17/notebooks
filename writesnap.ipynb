{
 "cells": [
  {
   "cell_type": "code",
   "execution_count": 1,
   "id": "southwest-effort",
   "metadata": {},
   "outputs": [],
   "source": [
    "import meshio\n",
    "import numpy as np\n",
    "import load_from_snapshot\n",
    "from matplotlib import pyplot as plt\n",
    "import glob\n",
    "import h5py"
   ]
  },
  {
   "cell_type": "code",
   "execution_count": 4,
   "id": "killing-lexington",
   "metadata": {},
   "outputs": [],
   "source": [
    "Files = glob.glob(\"data/rawdata/Velocity_proc_*_it_0.vtu\")\n",
    "r = np.array([])\n",
    "t = np.array([])\n",
    "z = np.array([])\n",
    "vx = np.array([])\n",
    "vy = np.array([])\n",
    "vz = np.array([])\n",
    "vr = np.array([])\n",
    "vt = np.array([])\n",
    "vz = np.array([])\n",
    "x = np.array([])\n",
    "y = np.array([])\n",
    "z = np.array([])\n",
    "for f in Files:\n",
    "    data = meshio.read(f)\n",
    "    cellsdata = data.point_data    \n",
    "    x_0 = data.points[::,0]\n",
    "    y_0 = data.points[::,1]\n",
    "    z_0 = data.points[::,2]\n",
    "    \n",
    "    x = np.concatenate((x, x_0))    \n",
    "    y = np.concatenate((y, y_0))\n",
    "    #z = np.concatenate((z, z_0))\n",
    "\n",
    "    r_0 = np.sqrt(x_0**2 + y_0**2)\n",
    "    t_0 = np.arctan2(y_0, x_0)\n",
    "    \n",
    "    \n",
    "    r = np.concatenate((r,r_0))\n",
    "    t = np.concatenate((t,t_0))\n",
    "    z = np.concatenate((z, z_0))\n",
    "    \n",
    "    vx_0 = cellsdata['vel'][:,0]\n",
    "    vy_0 = cellsdata['vel'][:,1]\n",
    "    vz_0 = cellsdata['vel'][:,2]\n",
    "    vx = np.concatenate((vx, vx_0))    \n",
    "    vy = np.concatenate((vy, vy_0))\n",
    "\n",
    "    vr_0 = np.sqrt(vx_0**2 + vy_0**2)\n",
    "    vt_0 = np.arctan2(vy_0, vx_0)\n",
    "\n",
    "    vr = np.concatenate((vr, vr_0))\n",
    "    vt = np.concatenate((vt, vt_0))\n",
    "    vz = np.concatenate((vz, vz_0)) \n"
   ]
  },
  {
   "cell_type": "code",
   "execution_count": 5,
   "id": "inappropriate-atlanta",
   "metadata": {},
   "outputs": [],
   "source": [
    "velocities = np.array([vr, vt, vz]).T\n",
    "coordinates = np.array([r, t, z]).T"
   ]
  },
  {
   "cell_type": "code",
   "execution_count": 8,
   "id": "integrated-corruption",
   "metadata": {},
   "outputs": [],
   "source": [
    "filename = 'testsnap.hdf5'\n",
    "F.close()\n",
    "\n",
    "F=h5py.File(filename, 'w')\n",
    "F.create_group(\"Point\")\n",
    "F[\"Point\"].create_dataset(\"Positions\", data = coordinates)\n",
    "F.create_group(\"Cell\")\n",
    "F[\"Cell\"].create_dataset(\"Velocities\", data = velocities)\n",
    "F.close()\n"
   ]
  },
  {
   "cell_type": "code",
   "execution_count": null,
   "id": "reasonable-priest",
   "metadata": {},
   "outputs": [],
   "source": [
    "#List of options to use with VTU files\n",
    "#__class__         __gt__             __reduce__         cell_data_dict     info\n",
    "#__delattr__       __hash__           __reduce_ex__      cell_sets          int_data_to_sets\n",
    "#__dict__          __init__           __repr__           cell_sets_dict     point_data\n",
    "#__dir__           __init_subclass__  __setattr__        cells              point_sets\n",
    "#__doc__           __le__             __sizeof__         cells_dict         points\n",
    "#__eq__            __lt__             __str__            field_data         prune\n",
    "#__format__        __module__         __subclasshook__   get_cell_data      read\n",
    "#__ge__            __ne__             __weakref__        get_cells_type     sets_to_int_data\n",
    "#__getattribute__  __new__            cell_data          gmsh_periodic      write"
   ]
  }
 ],
 "metadata": {
  "kernelspec": {
   "display_name": "Python 3",
   "language": "python",
   "name": "python3"
  },
  "language_info": {
   "codemirror_mode": {
    "name": "ipython",
    "version": 3
   },
   "file_extension": ".py",
   "mimetype": "text/x-python",
   "name": "python",
   "nbconvert_exporter": "python",
   "pygments_lexer": "ipython3",
   "version": "3.8.5"
  }
 },
 "nbformat": 4,
 "nbformat_minor": 5
}
